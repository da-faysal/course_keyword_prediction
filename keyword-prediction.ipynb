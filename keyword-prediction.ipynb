{
 "cells": [
  {
   "cell_type": "markdown",
   "metadata": {},
   "source": [
    "### We're going to predict the \"keyword\" for a course from its \"Titles\""
   ]
  },
  {
   "cell_type": "code",
   "execution_count": 1,
   "metadata": {},
   "outputs": [
    {
     "name": "stderr",
     "output_type": "stream",
     "text": [
      "[nltk_data] Downloading package stopwords to /root/nltk_data...\n",
      "[nltk_data]   Package stopwords is already up-to-date!\n"
     ]
    },
    {
     "data": {
      "text/plain": [
       "True"
      ]
     },
     "execution_count": 1,
     "metadata": {},
     "output_type": "execute_result"
    }
   ],
   "source": [
    "# Import required modules\n",
    "import pandas as pd\n",
    "import re\n",
    "from nltk.corpus import stopwords\n",
    "from collections import Counter\n",
    "\n",
    "from sklearn.model_selection import train_test_split\n",
    "from sklearn.feature_extraction.text import CountVectorizer, TfidfTransformer\n",
    "from sklearn.metrics import classification_report\n",
    "from sklearn.pipeline import Pipeline\n",
    "from sklearn.linear_model import LogisticRegression\n",
    "import pickle\n",
    "\n",
    "# Download stopwords\n",
    "import nltk\n",
    "nltk.download('stopwords')"
   ]
  },
  {
   "cell_type": "code",
   "execution_count": 2,
   "metadata": {},
   "outputs": [
    {
     "data": {
      "text/html": [
       "<div>\n",
       "<style scoped>\n",
       "    .dataframe tbody tr th:only-of-type {\n",
       "        vertical-align: middle;\n",
       "    }\n",
       "\n",
       "    .dataframe tbody tr th {\n",
       "        vertical-align: top;\n",
       "    }\n",
       "\n",
       "    .dataframe thead th {\n",
       "        text-align: right;\n",
       "    }\n",
       "</style>\n",
       "<table border=\"1\" class=\"dataframe\">\n",
       "  <thead>\n",
       "    <tr style=\"text-align: right;\">\n",
       "      <th></th>\n",
       "      <th>Titles</th>\n",
       "      <th>Exact Keyword</th>\n",
       "      <th>broadKeyword</th>\n",
       "    </tr>\n",
       "  </thead>\n",
       "  <tbody>\n",
       "    <tr>\n",
       "      <th>0</th>\n",
       "      <td>Proofreading &amp; copy editing course (Level 4 Di...</td>\n",
       "      <td>proofreading</td>\n",
       "      <td>copy editing</td>\n",
       "    </tr>\n",
       "    <tr>\n",
       "      <th>1</th>\n",
       "      <td>Public relations course (Level 4 Diploma)</td>\n",
       "      <td>public relations</td>\n",
       "      <td>public relation</td>\n",
       "    </tr>\n",
       "    <tr>\n",
       "      <th>2</th>\n",
       "      <td>Learn Arabic</td>\n",
       "      <td>arabic</td>\n",
       "      <td>language</td>\n",
       "    </tr>\n",
       "    <tr>\n",
       "      <th>3</th>\n",
       "      <td>Learn French includes MP3 Downloads</td>\n",
       "      <td>french</td>\n",
       "      <td>language</td>\n",
       "    </tr>\n",
       "    <tr>\n",
       "      <th>4</th>\n",
       "      <td>Learn German</td>\n",
       "      <td>german</td>\n",
       "      <td>language</td>\n",
       "    </tr>\n",
       "  </tbody>\n",
       "</table>\n",
       "</div>"
      ],
      "text/plain": [
       "                                              Titles     Exact Keyword  \\\n",
       "0  Proofreading & copy editing course (Level 4 Di...      proofreading   \n",
       "1          Public relations course (Level 4 Diploma)  public relations   \n",
       "2                                       Learn Arabic            arabic   \n",
       "3                Learn French includes MP3 Downloads            french   \n",
       "4                                       Learn German            german   \n",
       "\n",
       "      broadKeyword  \n",
       "0     copy editing  \n",
       "1  public relation  \n",
       "2         language  \n",
       "3         language  \n",
       "4         language  "
      ]
     },
     "execution_count": 2,
     "metadata": {},
     "output_type": "execute_result"
    }
   ],
   "source": [
    "# Read in the input file\n",
    "df = pd.read_csv(\"courseWithKeyword.csv\").drop(\"Unnamed: 3\", axis=1)\n",
    "df = df.dropna()\n",
    "df.head()"
   ]
  },
  {
   "cell_type": "code",
   "execution_count": 3,
   "metadata": {},
   "outputs": [],
   "source": [
    "# Cleaning and processing\n",
    "\n",
    "# \"[^a-zA-Z0-9]\" replaces all except words and digits\n",
    "# \"(\\s\\d*)\" replaces digits if it has at least 1 space before it.\n",
    "# \"(\\s{2,})\" replaces at least 2 or more digits with a single space\n",
    "df.Titles = df.Titles.str.replace(\"[^a-zA-Z0-9]\", \" \").str.replace(\"(\\s\\d*)\", \" \").str.replace(\"(\\s{2,})\", \" \")\n",
    "\n",
    "# Lowecase titles\n",
    "df.Titles = df.Titles.str.lower().str.strip()"
   ]
  },
  {
   "cell_type": "code",
   "execution_count": 4,
   "metadata": {},
   "outputs": [],
   "source": [
    "# Stopwords\n",
    "STOPWORDS = set(stopwords.words(\"english\"))\n",
    "\n",
    "# We are searching in a dictionary rather than a set which is basically a hashmap. And in hashmap the search time is O(1)\n",
    "STOPWORDS = Counter(STOPWORDS)\n",
    "\n",
    "# Remove stopwords \n",
    "df.Titles = df.Titles.apply(lambda x: [item for item in x.split() if item not in STOPWORDS]).str.join(\" \")"
   ]
  },
  {
   "cell_type": "code",
   "execution_count": 5,
   "metadata": {},
   "outputs": [],
   "source": [
    "# Extract feature vector and response vector\n",
    "X = df.Titles\n",
    "y = df[\"broadKeyword\"]\n",
    "\n",
    "\n",
    "# Split train and test data\n",
    "X_train, X_test, y_train, y_test = train_test_split(df.Titles, df.broadKeyword, shuffle=True, test_size=0.2, random_state=43)"
   ]
  },
  {
   "cell_type": "code",
   "execution_count": 6,
   "metadata": {},
   "outputs": [],
   "source": [
    "# Make model pipeline\n",
    "def make_pipeline(clf):\n",
    "    model = Pipeline([\n",
    "        (\"countvec\", CountVectorizer()),\n",
    "        (\"tfidf\", TfidfTransformer()),\n",
    "        (\"clf\", clf)])\n",
    "    \n",
    "    model.fit(X_train, y_train)\n",
    "    with open(\"LogisticRegressionModel.pickle\", \"wb\") as f:\n",
    "        pickle.dump(model, f)\n",
    "\n",
    "    # Make prediction on test set\n",
    "    y_pred = model.predict(X_test)\n",
    "    \n",
    "    pred_df = pd.DataFrame({\n",
    "        \"y_test\":y_test,\n",
    "        \"pred\":y_pred\n",
    "    })\n",
    "\n",
    "    metric_df = pd.DataFrame(classification_report(pred_df.y_test, pred_df.pred, output_dict=True)).T.drop(\"support\", axis=1).reset_index()\n",
    "    metric_df.columns = [\"category\", \"precision\", \"recall\", \"f1-score\"]\n",
    "    return metric_df, pred_df"
   ]
  },
  {
   "cell_type": "code",
   "execution_count": 7,
   "metadata": {},
   "outputs": [
    {
     "name": "stderr",
     "output_type": "stream",
     "text": [
      "/root/projects/alberta_property_price/venv/lib/python3.10/site-packages/sklearn/metrics/_classification.py:1469: UndefinedMetricWarning: Precision and F-score are ill-defined and being set to 0.0 in labels with no predicted samples. Use `zero_division` parameter to control this behavior.\n",
      "  _warn_prf(average, modifier, msg_start, len(result))\n",
      "/root/projects/alberta_property_price/venv/lib/python3.10/site-packages/sklearn/metrics/_classification.py:1469: UndefinedMetricWarning: Recall and F-score are ill-defined and being set to 0.0 in labels with no true samples. Use `zero_division` parameter to control this behavior.\n",
      "  _warn_prf(average, modifier, msg_start, len(result))\n",
      "/root/projects/alberta_property_price/venv/lib/python3.10/site-packages/sklearn/metrics/_classification.py:1469: UndefinedMetricWarning: Precision and F-score are ill-defined and being set to 0.0 in labels with no predicted samples. Use `zero_division` parameter to control this behavior.\n",
      "  _warn_prf(average, modifier, msg_start, len(result))\n",
      "/root/projects/alberta_property_price/venv/lib/python3.10/site-packages/sklearn/metrics/_classification.py:1469: UndefinedMetricWarning: Recall and F-score are ill-defined and being set to 0.0 in labels with no true samples. Use `zero_division` parameter to control this behavior.\n",
      "  _warn_prf(average, modifier, msg_start, len(result))\n",
      "/root/projects/alberta_property_price/venv/lib/python3.10/site-packages/sklearn/metrics/_classification.py:1469: UndefinedMetricWarning: Precision and F-score are ill-defined and being set to 0.0 in labels with no predicted samples. Use `zero_division` parameter to control this behavior.\n",
      "  _warn_prf(average, modifier, msg_start, len(result))\n",
      "/root/projects/alberta_property_price/venv/lib/python3.10/site-packages/sklearn/metrics/_classification.py:1469: UndefinedMetricWarning: Recall and F-score are ill-defined and being set to 0.0 in labels with no true samples. Use `zero_division` parameter to control this behavior.\n",
      "  _warn_prf(average, modifier, msg_start, len(result))\n"
     ]
    }
   ],
   "source": [
    "# Use logistic regression model\n",
    "model = LogisticRegression()\n",
    "metric_df, pred_df = make_pipeline(model)"
   ]
  },
  {
   "cell_type": "code",
   "execution_count": 8,
   "metadata": {},
   "outputs": [
    {
     "data": {
      "text/html": [
       "<div>\n",
       "<style scoped>\n",
       "    .dataframe tbody tr th:only-of-type {\n",
       "        vertical-align: middle;\n",
       "    }\n",
       "\n",
       "    .dataframe tbody tr th {\n",
       "        vertical-align: top;\n",
       "    }\n",
       "\n",
       "    .dataframe thead th {\n",
       "        text-align: right;\n",
       "    }\n",
       "</style>\n",
       "<table border=\"1\" class=\"dataframe\">\n",
       "  <thead>\n",
       "    <tr style=\"text-align: right;\">\n",
       "      <th></th>\n",
       "      <th>category</th>\n",
       "      <th>precision</th>\n",
       "      <th>recall</th>\n",
       "      <th>f1-score</th>\n",
       "    </tr>\n",
       "  </thead>\n",
       "  <tbody>\n",
       "    <tr>\n",
       "      <th>0</th>\n",
       "      <td>3ds max</td>\n",
       "      <td>1.000000</td>\n",
       "      <td>1.000000</td>\n",
       "      <td>1.000000</td>\n",
       "    </tr>\n",
       "    <tr>\n",
       "      <th>1</th>\n",
       "      <td>TEFL</td>\n",
       "      <td>0.000000</td>\n",
       "      <td>0.000000</td>\n",
       "      <td>0.000000</td>\n",
       "    </tr>\n",
       "    <tr>\n",
       "      <th>2</th>\n",
       "      <td>ableton live</td>\n",
       "      <td>1.000000</td>\n",
       "      <td>1.000000</td>\n",
       "      <td>1.000000</td>\n",
       "    </tr>\n",
       "    <tr>\n",
       "      <th>3</th>\n",
       "      <td>abrasive wheels</td>\n",
       "      <td>1.000000</td>\n",
       "      <td>1.000000</td>\n",
       "      <td>1.000000</td>\n",
       "    </tr>\n",
       "    <tr>\n",
       "      <th>4</th>\n",
       "      <td>account management</td>\n",
       "      <td>1.000000</td>\n",
       "      <td>1.000000</td>\n",
       "      <td>1.000000</td>\n",
       "    </tr>\n",
       "    <tr>\n",
       "      <th>...</th>\n",
       "      <td>...</td>\n",
       "      <td>...</td>\n",
       "      <td>...</td>\n",
       "      <td>...</td>\n",
       "    </tr>\n",
       "    <tr>\n",
       "      <th>576</th>\n",
       "      <td>youth worker</td>\n",
       "      <td>0.000000</td>\n",
       "      <td>0.000000</td>\n",
       "      <td>0.000000</td>\n",
       "    </tr>\n",
       "    <tr>\n",
       "      <th>577</th>\n",
       "      <td>zoology</td>\n",
       "      <td>0.000000</td>\n",
       "      <td>0.000000</td>\n",
       "      <td>0.000000</td>\n",
       "    </tr>\n",
       "    <tr>\n",
       "      <th>578</th>\n",
       "      <td>accuracy</td>\n",
       "      <td>0.759113</td>\n",
       "      <td>0.759113</td>\n",
       "      <td>0.759113</td>\n",
       "    </tr>\n",
       "    <tr>\n",
       "      <th>579</th>\n",
       "      <td>macro avg</td>\n",
       "      <td>0.542530</td>\n",
       "      <td>0.510465</td>\n",
       "      <td>0.509252</td>\n",
       "    </tr>\n",
       "    <tr>\n",
       "      <th>580</th>\n",
       "      <td>weighted avg</td>\n",
       "      <td>0.744604</td>\n",
       "      <td>0.759113</td>\n",
       "      <td>0.732416</td>\n",
       "    </tr>\n",
       "  </tbody>\n",
       "</table>\n",
       "<p>581 rows × 4 columns</p>\n",
       "</div>"
      ],
      "text/plain": [
       "               category  precision    recall  f1-score\n",
       "0               3ds max   1.000000  1.000000  1.000000\n",
       "1                  TEFL   0.000000  0.000000  0.000000\n",
       "2          ableton live   1.000000  1.000000  1.000000\n",
       "3       abrasive wheels   1.000000  1.000000  1.000000\n",
       "4    account management   1.000000  1.000000  1.000000\n",
       "..                  ...        ...       ...       ...\n",
       "576        youth worker   0.000000  0.000000  0.000000\n",
       "577             zoology   0.000000  0.000000  0.000000\n",
       "578            accuracy   0.759113  0.759113  0.759113\n",
       "579           macro avg   0.542530  0.510465  0.509252\n",
       "580        weighted avg   0.744604  0.759113  0.732416\n",
       "\n",
       "[581 rows x 4 columns]"
      ]
     },
     "execution_count": 8,
     "metadata": {},
     "output_type": "execute_result"
    }
   ],
   "source": [
    "# See the classification report\n",
    "metric_df"
   ]
  },
  {
   "cell_type": "code",
   "execution_count": 9,
   "metadata": {},
   "outputs": [
    {
     "name": "stdout",
     "output_type": "stream",
     "text": [
      "2978 correct predictions out of 3923 records\n"
     ]
    }
   ],
   "source": [
    "# Check how many correct prediction the model has made\n",
    "print(f\"{pred_df[pred_df.y_test==pred_df.pred].shape[0]} correct predictions out of {pred_df.shape[0]} records\")"
   ]
  },
  {
   "cell_type": "code",
   "execution_count": 10,
   "metadata": {},
   "outputs": [
    {
     "data": {
      "text/plain": [
       "'pet training'"
      ]
     },
     "execution_count": 10,
     "metadata": {},
     "output_type": "execute_result"
    }
   ],
   "source": [
    "# Read the saved model again and make prediction\n",
    "model = pd.read_pickle(\"LogisticRegressionModel.pickle\")\n",
    "model.predict([\"dog walking\"])[0]"
   ]
  }
 ],
 "metadata": {
  "kernelspec": {
   "display_name": "venv",
   "language": "python",
   "name": "venv"
  },
  "language_info": {
   "codemirror_mode": {
    "name": "ipython",
    "version": 3
   },
   "file_extension": ".py",
   "mimetype": "text/x-python",
   "name": "python",
   "nbconvert_exporter": "python",
   "pygments_lexer": "ipython3",
   "version": "3.10.12"
  }
 },
 "nbformat": 4,
 "nbformat_minor": 4
}
